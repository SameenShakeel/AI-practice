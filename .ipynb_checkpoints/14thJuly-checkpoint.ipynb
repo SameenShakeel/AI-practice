{
 "cells": [
  {
   "cell_type": "markdown",
   "metadata": {},
   "source": [
    "# Classes"
   ]
  },
  {
   "cell_type": "code",
   "execution_count": 63,
   "metadata": {},
   "outputs": [],
   "source": [
    "class Mobile():\n",
    "    #attributes >>>variables\n",
    "    def __init__(self,brand,color,price,memory,ram):\n",
    "        self.brand = brand\n",
    "        self.color = color\n",
    "        self.price = price\n",
    "        self.memory = memory\n",
    "        self.ram = ram\n",
    "    \n",
    "    #behaviours >> functions\n",
    "    def makeCall(self):\n",
    "        print(\"mobile is dialing\")\n",
    "    def recvCall(self):\n",
    "        print(\"mobile is receiving\")\n",
    "    def sendmsg(self):\n",
    "        print(\"mobile is sending a message\")\n",
    "    def recvmsg(self):\n",
    "        print(\"mobile is receiving a message\")\n",
    "    def KeyPad(self):\n",
    "        print(\"Keyapad is pressed\")"
   ]
  },
  {
   "cell_type": "code",
   "execution_count": 15,
   "metadata": {},
   "outputs": [],
   "source": [
    "mobile1 = Mobile(\"Nokia\", \"black\", 100000, \"16GB\", \"2GB\")"
   ]
  },
  {
   "cell_type": "code",
   "execution_count": 8,
   "metadata": {},
   "outputs": [
    {
     "data": {
      "text/plain": [
       "'2GB'"
      ]
     },
     "execution_count": 8,
     "metadata": {},
     "output_type": "execute_result"
    }
   ],
   "source": [
    "mobile1.ram"
   ]
  },
  {
   "cell_type": "code",
   "execution_count": 9,
   "metadata": {},
   "outputs": [
    {
     "data": {
      "text/plain": [
       "'black'"
      ]
     },
     "execution_count": 9,
     "metadata": {},
     "output_type": "execute_result"
    }
   ],
   "source": [
    "mobile1.color"
   ]
  },
  {
   "cell_type": "code",
   "execution_count": 10,
   "metadata": {},
   "outputs": [
    {
     "name": "stdout",
     "output_type": "stream",
     "text": [
      "mobile is dialing\n"
     ]
    }
   ],
   "source": [
    "mobile1.makeCall()"
   ]
  },
  {
   "cell_type": "code",
   "execution_count": 11,
   "metadata": {},
   "outputs": [
    {
     "data": {
      "text/plain": [
       "'Nokia'"
      ]
     },
     "execution_count": 11,
     "metadata": {},
     "output_type": "execute_result"
    }
   ],
   "source": [
    "mobile1.brand"
   ]
  },
  {
   "cell_type": "code",
   "execution_count": 12,
   "metadata": {},
   "outputs": [
    {
     "data": {
      "text/plain": [
       "'16GB'"
      ]
     },
     "execution_count": 12,
     "metadata": {},
     "output_type": "execute_result"
    }
   ],
   "source": [
    "mobile1.memory"
   ]
  },
  {
   "cell_type": "code",
   "execution_count": 13,
   "metadata": {},
   "outputs": [
    {
     "name": "stdout",
     "output_type": "stream",
     "text": [
      "mobile is receiving\n"
     ]
    }
   ],
   "source": [
    "mobile1.recvCall()"
   ]
  },
  {
   "cell_type": "code",
   "execution_count": 16,
   "metadata": {},
   "outputs": [
    {
     "data": {
      "text/plain": [
       "100000"
      ]
     },
     "execution_count": 16,
     "metadata": {},
     "output_type": "execute_result"
    }
   ],
   "source": [
    "mobile1.price"
   ]
  },
  {
   "cell_type": "code",
   "execution_count": 17,
   "metadata": {},
   "outputs": [
    {
     "name": "stdout",
     "output_type": "stream",
     "text": [
      "mobile is receiving a message\n"
     ]
    }
   ],
   "source": [
    "mobile1.recvmsg()"
   ]
  },
  {
   "cell_type": "code",
   "execution_count": 18,
   "metadata": {},
   "outputs": [
    {
     "name": "stdout",
     "output_type": "stream",
     "text": [
      "mobile is sending a message\n"
     ]
    }
   ],
   "source": [
    "mobile1.sendmsg()"
   ]
  },
  {
   "cell_type": "code",
   "execution_count": 44,
   "metadata": {},
   "outputs": [],
   "source": [
    "class Student():\n",
    "    def __init__(self,name,gender,course,email):\n",
    "        self.name = name\n",
    "        self.gender = gender\n",
    "        self.course = course\n",
    "        self.email = email\n",
    "        self.GPA = 0\n",
    "        \n",
    "    def getGPA(self):\n",
    "        print(f\"The GPA of {self.name} is {self.GPA}\")\n",
    "    def setGPA(self, newGPA):\n",
    "        self.GPA = newGPA\n",
    "    def study(self):\n",
    "        print(f\"{self.name} is studying\")\n",
    "    def exam(self):\n",
    "        print(f\"{self.names} is appearing in exam\")\n",
    "    def submitAssign(self):\n",
    "        print(f\"{self.name} is submitting Assignment\")"
   ]
  },
  {
   "cell_type": "code",
   "execution_count": 45,
   "metadata": {},
   "outputs": [],
   "source": [
    "s1 = Student(\"Sameen\", \"F\", \"AI\", \"sameen@gmail.com\")\n",
    "s2 = Student(\"Hassaan\", \"M\", \"AI\", \"hassaan@gmail.com\")"
   ]
  },
  {
   "cell_type": "code",
   "execution_count": 30,
   "metadata": {},
   "outputs": [
    {
     "data": {
      "text/plain": [
       "'Sameen'"
      ]
     },
     "execution_count": 30,
     "metadata": {},
     "output_type": "execute_result"
    }
   ],
   "source": [
    "s1.name"
   ]
  },
  {
   "cell_type": "code",
   "execution_count": 23,
   "metadata": {},
   "outputs": [
    {
     "data": {
      "text/plain": [
       "'Hassaan'"
      ]
     },
     "execution_count": 23,
     "metadata": {},
     "output_type": "execute_result"
    }
   ],
   "source": [
    "s2.name"
   ]
  },
  {
   "cell_type": "code",
   "execution_count": 24,
   "metadata": {},
   "outputs": [
    {
     "data": {
      "text/plain": [
       "'AI'"
      ]
     },
     "execution_count": 24,
     "metadata": {},
     "output_type": "execute_result"
    }
   ],
   "source": [
    "s1.course"
   ]
  },
  {
   "cell_type": "code",
   "execution_count": 25,
   "metadata": {},
   "outputs": [
    {
     "name": "stdout",
     "output_type": "stream",
     "text": [
      "Sameen is studying\n"
     ]
    }
   ],
   "source": [
    "s1.study()"
   ]
  },
  {
   "cell_type": "code",
   "execution_count": 26,
   "metadata": {},
   "outputs": [
    {
     "name": "stdout",
     "output_type": "stream",
     "text": [
      "Sameen is submitting Assignment\n"
     ]
    }
   ],
   "source": [
    "s1.submitAssign()"
   ]
  },
  {
   "cell_type": "code",
   "execution_count": 27,
   "metadata": {},
   "outputs": [
    {
     "name": "stdout",
     "output_type": "stream",
     "text": [
      "Sameen is appearing in exam\n"
     ]
    }
   ],
   "source": [
    "s1.exam()"
   ]
  },
  {
   "cell_type": "code",
   "execution_count": 46,
   "metadata": {},
   "outputs": [],
   "source": [
    "s1.setGPA(3)"
   ]
  },
  {
   "cell_type": "code",
   "execution_count": 47,
   "metadata": {},
   "outputs": [
    {
     "name": "stdout",
     "output_type": "stream",
     "text": [
      "The GPA of Sameen is 3\n"
     ]
    }
   ],
   "source": [
    "s1.getGPA()"
   ]
  },
  {
   "cell_type": "markdown",
   "metadata": {},
   "source": [
    "# Inheritance"
   ]
  },
  {
   "cell_type": "code",
   "execution_count": 62,
   "metadata": {},
   "outputs": [],
   "source": [
    "class SmartMobile(Mobile):\n",
    "    def __init__(self, brand, color, price, memory, ram):\n",
    "        super().__init__(brand, color, price, memory, ram)\n",
    "        self.battery = \"10amp\"\n",
    "    \n",
    "    def camera(self):\n",
    "        print(\"Smart Camera is ON\")\n",
    "    def KeyPad(self):\n",
    "        print(\"There is no keypad in smartphone\")"
   ]
  },
  {
   "cell_type": "code",
   "execution_count": 52,
   "metadata": {},
   "outputs": [],
   "source": [
    "sm1 = SmartMobile(\"Nokia\", \"black\", 100000, \"16GB\", \"2GB\")"
   ]
  },
  {
   "cell_type": "code",
   "execution_count": null,
   "metadata": {},
   "outputs": [],
   "source": []
  }
 ],
 "metadata": {
  "kernelspec": {
   "display_name": "Python 3",
   "language": "python",
   "name": "python3"
  },
  "language_info": {
   "codemirror_mode": {
    "name": "ipython",
    "version": 3
   },
   "file_extension": ".py",
   "mimetype": "text/x-python",
   "name": "python",
   "nbconvert_exporter": "python",
   "pygments_lexer": "ipython3",
   "version": "3.7.3"
  }
 },
 "nbformat": 4,
 "nbformat_minor": 2
}
