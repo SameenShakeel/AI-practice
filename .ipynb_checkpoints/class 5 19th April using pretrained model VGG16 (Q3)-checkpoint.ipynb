{
 "cells": [
  {
   "cell_type": "markdown",
   "metadata": {},
   "source": [
    "# Instantiating the VGG16 convolutional base"
   ]
  },
  {
   "cell_type": "code",
   "execution_count": 1,
   "metadata": {},
   "outputs": [
    {
     "name": "stdout",
     "output_type": "stream",
     "text": [
      "Downloading data from https://storage.googleapis.com/tensorflow/keras-applications/vgg16/vgg16_weights_tf_dim_ordering_tf_kernels_notop.h5\n",
      "58892288/58889256 [==============================] - 86s 1us/step\n"
     ]
    }
   ],
   "source": [
    "from tensorflow.keras.applications import VGG16\n",
    "\n",
    "conv_base = VGG16(weights='imagenet',\n",
    "                  include_top=False,\n",
    "                  input_shape=(150, 150, 3))"
   ]
  },
  {
   "cell_type": "code",
   "execution_count": 2,
   "metadata": {},
   "outputs": [
    {
     "name": "stdout",
     "output_type": "stream",
     "text": [
      "Model: \"vgg16\"\n",
      "_________________________________________________________________\n",
      "Layer (type)                 Output Shape              Param #   \n",
      "=================================================================\n",
      "input_1 (InputLayer)         [(None, 150, 150, 3)]     0         \n",
      "_________________________________________________________________\n",
      "block1_conv1 (Conv2D)        (None, 150, 150, 64)      1792      \n",
      "_________________________________________________________________\n",
      "block1_conv2 (Conv2D)        (None, 150, 150, 64)      36928     \n",
      "_________________________________________________________________\n",
      "block1_pool (MaxPooling2D)   (None, 75, 75, 64)        0         \n",
      "_________________________________________________________________\n",
      "block2_conv1 (Conv2D)        (None, 75, 75, 128)       73856     \n",
      "_________________________________________________________________\n",
      "block2_conv2 (Conv2D)        (None, 75, 75, 128)       147584    \n",
      "_________________________________________________________________\n",
      "block2_pool (MaxPooling2D)   (None, 37, 37, 128)       0         \n",
      "_________________________________________________________________\n",
      "block3_conv1 (Conv2D)        (None, 37, 37, 256)       295168    \n",
      "_________________________________________________________________\n",
      "block3_conv2 (Conv2D)        (None, 37, 37, 256)       590080    \n",
      "_________________________________________________________________\n",
      "block3_conv3 (Conv2D)        (None, 37, 37, 256)       590080    \n",
      "_________________________________________________________________\n",
      "block3_pool (MaxPooling2D)   (None, 18, 18, 256)       0         \n",
      "_________________________________________________________________\n",
      "block4_conv1 (Conv2D)        (None, 18, 18, 512)       1180160   \n",
      "_________________________________________________________________\n",
      "block4_conv2 (Conv2D)        (None, 18, 18, 512)       2359808   \n",
      "_________________________________________________________________\n",
      "block4_conv3 (Conv2D)        (None, 18, 18, 512)       2359808   \n",
      "_________________________________________________________________\n",
      "block4_pool (MaxPooling2D)   (None, 9, 9, 512)         0         \n",
      "_________________________________________________________________\n",
      "block5_conv1 (Conv2D)        (None, 9, 9, 512)         2359808   \n",
      "_________________________________________________________________\n",
      "block5_conv2 (Conv2D)        (None, 9, 9, 512)         2359808   \n",
      "_________________________________________________________________\n",
      "block5_conv3 (Conv2D)        (None, 9, 9, 512)         2359808   \n",
      "_________________________________________________________________\n",
      "block5_pool (MaxPooling2D)   (None, 4, 4, 512)         0         \n",
      "=================================================================\n",
      "Total params: 14,714,688\n",
      "Trainable params: 14,714,688\n",
      "Non-trainable params: 0\n",
      "_________________________________________________________________\n"
     ]
    }
   ],
   "source": [
    "conv_base.summary()"
   ]
  },
  {
   "cell_type": "markdown",
   "metadata": {},
   "source": [
    "# Feature Extraction"
   ]
  },
  {
   "cell_type": "markdown",
   "metadata": {},
   "source": [
    "## Extracting features using the pretrained convolutional base"
   ]
  },
  {
   "cell_type": "code",
   "execution_count": 6,
   "metadata": {},
   "outputs": [
    {
     "name": "stdout",
     "output_type": "stream",
     "text": [
      "Found 2000 images belonging to 2 classes.\n",
      "Found 1000 images belonging to 2 classes.\n",
      "Found 1000 images belonging to 2 classes.\n"
     ]
    }
   ],
   "source": [
    "import os\n",
    "import numpy as np\n",
    "from tensorflow.keras.preprocessing.image import ImageDataGenerator\n",
    "\n",
    "base_dir = 'E:/cats_and_dogs'\n",
    "train_dir = os.path.join(base_dir, 'train')\n",
    "validation_dir = os.path.join(base_dir, 'validation')\n",
    "test_dir = os.path.join(base_dir, 'test')\n",
    "\n",
    "datagen = ImageDataGenerator(rescale=1./255)\n",
    "batch_size = 20\n",
    "\n",
    "def extract_features(directory, sample_count):\n",
    "    features = np.zeros(shape=(sample_count, 4, 4, 512))\n",
    "    labels = np.zeros(shape=(sample_count))\n",
    "    generator = datagen.flow_from_directory(\n",
    "    directory,\n",
    "    target_size=(150, 150),\n",
    "    batch_size=batch_size,\n",
    "    class_mode='binary')\n",
    "    i = 0\n",
    "    for inputs_batch, labels_batch in generator:\n",
    "        features_batch = conv_base.predict(inputs_batch)\n",
    "        features[i * batch_size : (i + 1) * batch_size] = features_batch\n",
    "        labels[i * batch_size : (i + 1) * batch_size] = labels_batch\n",
    "        i += 1\n",
    "        if i * batch_size >= sample_count:\n",
    "            break   # Note that because generators yield data indefinitely in a loop, \n",
    "                    # you must break after every image has been seen once.\n",
    "    return features, labels\n",
    "\n",
    "train_features, train_labels = extract_features(train_dir, 2000)\n",
    "validation_features, validation_labels = extract_features(validation_dir, 1000)\n",
    "test_features, test_labels = extract_features(test_dir, 1000)"
   ]
  },
  {
   "cell_type": "code",
   "execution_count": 7,
   "metadata": {},
   "outputs": [],
   "source": [
    "train_features = np.reshape(train_features, (2000, 4 * 4 * 512))\n",
    "validation_features = np.reshape(validation_features, (1000, 4 * 4 * 512))\n",
    "test_features = np.reshape(test_features, (1000, 4 * 4 * 512))"
   ]
  },
  {
   "cell_type": "markdown",
   "metadata": {},
   "source": [
    "## Defining and training the densely connected classifier"
   ]
  },
  {
   "cell_type": "code",
   "execution_count": 8,
   "metadata": {},
   "outputs": [
    {
     "name": "stdout",
     "output_type": "stream",
     "text": [
      "Epoch 1/30\n",
      "100/100 [==============================] - 3s 32ms/step - loss: 0.6045 - acc: 0.6740 - val_loss: 0.4427 - val_acc: 0.8250\n",
      "Epoch 2/30\n",
      "100/100 [==============================] - 3s 29ms/step - loss: 0.4196 - acc: 0.8120 - val_loss: 0.3594 - val_acc: 0.8520\n",
      "Epoch 3/30\n",
      "100/100 [==============================] - 3s 28ms/step - loss: 0.3483 - acc: 0.8550 - val_loss: 0.3419 - val_acc: 0.8490\n",
      "Epoch 4/30\n",
      "100/100 [==============================] - 3s 29ms/step - loss: 0.3110 - acc: 0.8750 - val_loss: 0.3096 - val_acc: 0.8810\n",
      "Epoch 5/30\n",
      "100/100 [==============================] - 3s 33ms/step - loss: 0.2944 - acc: 0.8835 - val_loss: 0.2834 - val_acc: 0.8910\n",
      "Epoch 6/30\n",
      "100/100 [==============================] - 4s 35ms/step - loss: 0.2630 - acc: 0.8920 - val_loss: 0.2720 - val_acc: 0.8940\n",
      "Epoch 7/30\n",
      "100/100 [==============================] - 3s 33ms/step - loss: 0.2493 - acc: 0.9035 - val_loss: 0.2655 - val_acc: 0.8960\n",
      "Epoch 8/30\n",
      "100/100 [==============================] - 3s 30ms/step - loss: 0.2337 - acc: 0.9065 - val_loss: 0.2606 - val_acc: 0.8960\n",
      "Epoch 9/30\n",
      "100/100 [==============================] - 3s 30ms/step - loss: 0.2194 - acc: 0.9170 - val_loss: 0.2571 - val_acc: 0.8960\n",
      "Epoch 10/30\n",
      "100/100 [==============================] - 3s 30ms/step - loss: 0.2071 - acc: 0.9245 - val_loss: 0.2516 - val_acc: 0.9000\n",
      "Epoch 11/30\n",
      "100/100 [==============================] - 3s 30ms/step - loss: 0.1966 - acc: 0.9255 - val_loss: 0.2489 - val_acc: 0.9010\n",
      "Epoch 12/30\n",
      "100/100 [==============================] - 3s 31ms/step - loss: 0.1883 - acc: 0.9340 - val_loss: 0.2440 - val_acc: 0.9060\n",
      "Epoch 13/30\n",
      "100/100 [==============================] - 3s 30ms/step - loss: 0.1759 - acc: 0.9360 - val_loss: 0.2423 - val_acc: 0.9060\n",
      "Epoch 14/30\n",
      "100/100 [==============================] - 3s 31ms/step - loss: 0.1727 - acc: 0.9375 - val_loss: 0.2415 - val_acc: 0.9050\n",
      "Epoch 15/30\n",
      "100/100 [==============================] - 3s 32ms/step - loss: 0.1659 - acc: 0.9375 - val_loss: 0.2412 - val_acc: 0.9040\n",
      "Epoch 16/30\n",
      "100/100 [==============================] - 3s 29ms/step - loss: 0.1556 - acc: 0.9445 - val_loss: 0.2388 - val_acc: 0.9050\n",
      "Epoch 17/30\n",
      "100/100 [==============================] - 3s 31ms/step - loss: 0.1529 - acc: 0.9450 - val_loss: 0.2424 - val_acc: 0.9020\n",
      "Epoch 18/30\n",
      "100/100 [==============================] - 3s 33ms/step - loss: 0.1485 - acc: 0.9465 - val_loss: 0.2377 - val_acc: 0.9030\n",
      "Epoch 19/30\n",
      "100/100 [==============================] - 3s 31ms/step - loss: 0.1376 - acc: 0.9515 - val_loss: 0.2386 - val_acc: 0.8990\n",
      "Epoch 20/30\n",
      "100/100 [==============================] - 3s 30ms/step - loss: 0.1369 - acc: 0.9485 - val_loss: 0.2367 - val_acc: 0.9010\n",
      "Epoch 21/30\n",
      "100/100 [==============================] - 3s 31ms/step - loss: 0.1294 - acc: 0.9540 - val_loss: 0.2421 - val_acc: 0.9020\n",
      "Epoch 22/30\n",
      "100/100 [==============================] - 3s 29ms/step - loss: 0.1279 - acc: 0.9600 - val_loss: 0.2380 - val_acc: 0.9010\n",
      "Epoch 23/30\n",
      "100/100 [==============================] - 3s 28ms/step - loss: 0.1200 - acc: 0.9595 - val_loss: 0.2354 - val_acc: 0.9020\n",
      "Epoch 24/30\n",
      "100/100 [==============================] - 3s 29ms/step - loss: 0.1094 - acc: 0.9655 - val_loss: 0.2403 - val_acc: 0.9030\n",
      "Epoch 25/30\n",
      "100/100 [==============================] - 3s 29ms/step - loss: 0.1074 - acc: 0.9635 - val_loss: 0.2373 - val_acc: 0.9010\n",
      "Epoch 26/30\n",
      "100/100 [==============================] - 3s 29ms/step - loss: 0.1092 - acc: 0.9660 - val_loss: 0.2382 - val_acc: 0.9000\n",
      "Epoch 27/30\n",
      "100/100 [==============================] - 3s 29ms/step - loss: 0.1021 - acc: 0.9670 - val_loss: 0.2437 - val_acc: 0.8990\n",
      "Epoch 28/30\n",
      "100/100 [==============================] - 3s 29ms/step - loss: 0.0990 - acc: 0.9680 - val_loss: 0.2489 - val_acc: 0.8980\n",
      "Epoch 29/30\n",
      "100/100 [==============================] - 3s 30ms/step - loss: 0.0935 - acc: 0.9720 - val_loss: 0.2483 - val_acc: 0.8990\n",
      "Epoch 30/30\n",
      "100/100 [==============================] - 3s 29ms/step - loss: 0.0920 - acc: 0.9720 - val_loss: 0.2395 - val_acc: 0.8990\n"
     ]
    }
   ],
   "source": [
    "from tensorflow.keras import models\n",
    "from tensorflow.keras import layers\n",
    "from tensorflow.keras import optimizers\n",
    "\n",
    "model = models.Sequential()\n",
    "model.add(layers.Dense(256, activation='relu', input_dim=4 * 4 * 512))\n",
    "model.add(layers.Dropout(0.5))\n",
    "model.add(layers.Dense(1, activation='sigmoid'))\n",
    "\n",
    "model.compile(optimizer=optimizers.RMSprop(lr=2e-5),\n",
    "              loss='binary_crossentropy',\n",
    "              metrics=['acc'])\n",
    "\n",
    "history = model.fit(train_features,\n",
    "                    train_labels,\n",
    "                    epochs=30,\n",
    "                    batch_size=20,\n",
    "                    validation_data=(validation_features, validation_labels))"
   ]
  },
  {
   "cell_type": "markdown",
   "metadata": {},
   "source": [
    "## Plotting the results"
   ]
  },
  {
   "cell_type": "code",
   "execution_count": 9,
   "metadata": {},
   "outputs": [
    {
     "data": {
      "image/png": "[encoded data removed]",
      "text/plain": [
       "<Figure size 432x288 with 1 Axes>"
      ]
     },
     "metadata": {
      "needs_background": "light"
     },
     "output_type": "display_data"
    },
    {
     "data": {
      "image/png": "[encoded data removed]",
      "text/plain": [
       "<Figure size 432x288 with 1 Axes>"
      ]
     },
     "metadata": {
      "needs_background": "light"
     },
     "output_type": "display_data"
    }
   ],
   "source": [
    "import matplotlib.pyplot as plt\n",
    "\n",
    "acc = history.history['acc']\n",
    "val_acc = history.history['val_acc']\n",
    "loss = history.history['loss']\n",
    "val_loss = history.history['val_loss']\n",
    "\n",
    "epochs = range(1, len(acc) + 1)\n",
    "\n",
    "plt.plot(epochs, acc, 'bo', label='Training acc')\n",
    "plt.plot(epochs, val_acc, 'b', label='Validation acc')\n",
    "plt.title('Training and validation accuracy')\n",
    "plt.legend()\n",
    "\n",
    "plt.figure()\n",
    "\n",
    "plt.plot(epochs, loss, 'bo', label='Training loss')\n",
    "plt.plot(epochs, val_loss, 'b', label='Validation loss')\n",
    "plt.title('Training and validation loss')\n",
    "plt.legend()\n",
    "\n",
    "plt.show()"
   ]
  },
  {
   "cell_type": "markdown",
   "metadata": {},
   "source": [
    "# Fine-Tuning"
   ]
  },
  {
   "cell_type": "code",
   "execution_count": null,
   "metadata": {},
   "outputs": [],
   "source": []
  }
 ],
 "metadata": {
  "kernelspec": {
   "display_name": "Python 3",
   "language": "python",
   "name": "python3"
  },
  "language_info": {
   "codemirror_mode": {
    "name": "ipython",
    "version": 3
   },
   "file_extension": ".py",
   "mimetype": "text/x-python",
   "name": "python",
   "nbconvert_exporter": "python",
   "pygments_lexer": "ipython3",
   "version": "3.7.6"
  }
 },
 "nbformat": 4,
 "nbformat_minor": 4
}
